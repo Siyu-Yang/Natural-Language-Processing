{
 "cells": [
  {
   "cell_type": "markdown",
   "metadata": {},
   "source": [
    "# EECS 498 - Assignment 4 - Word Sense Disambiguation\n",
    "### By: Alexander \"AJ\" Goldstein - uniquename: ajva"
   ]
  },
  {
   "cell_type": "code",
   "execution_count": 49,
   "metadata": {
    "collapsed": true
   },
   "outputs": [],
   "source": [
    "import csv\n",
    "import sys\n",
    "import pandas as pd\n",
    "import scipy\n",
    "import numpy as np\n",
    "import math\n",
    "from __future__ import division\n",
    "import random\n",
    "from random import shuffle\n",
    "import matplotlib.pyplot as plt\n",
    "import operator"
   ]
  },
  {
   "cell_type": "markdown",
   "metadata": {},
   "source": [
    "## Pre-processing Functions:"
   ]
  },
  {
   "cell_type": "markdown",
   "metadata": {},
   "source": [
    "### 1) establish possible senses for current word disambiguation"
   ]
  },
  {
   "cell_type": "code",
   "execution_count": 50,
   "metadata": {
    "collapsed": true
   },
   "outputs": [],
   "source": [
    "def establish_senses(dataFile):\n",
    "    \n",
    "    senses_dict = {}\n",
    "    senses_features_dict = {}\n",
    "    sense_counts = {}\n",
    "    total_instances = 0\n",
    "    total_senses = 0\n",
    "    \n",
    "    with open(dataFile) as data:\n",
    "        \n",
    "        # reset read file pointer\n",
    "        data.seek(0)\n",
    "        \n",
    "        # for each line in the file...\n",
    "        for line in data:\n",
    "            \n",
    "            # if it's the start of a new instance...\n",
    "            if line.find(\"<instance\") != -1:\n",
    "                total_instances += 1\n",
    "                sense = next(data).split(\" \")[2].split('%')[1].strip(\"\\\"/>\\n\")\n",
    "                \n",
    "                # if it's a new sense...\n",
    "                if sense not in senses_dict:\n",
    "                    total_senses += 1\n",
    "                    senses_dict[sense] = 1.0\n",
    "                    senses_features_dict[sense] = {}\n",
    "                    sense_counts[sense] = 1\n",
    "                    \n",
    "                # otherwise just index the sense count\n",
    "                else:\n",
    "                    sense_counts[sense] += 1\n",
    "        \n",
    "    return senses_dict, senses_features_dict, total_instances, total_senses, sense_counts"
   ]
  },
  {
   "cell_type": "markdown",
   "metadata": {},
   "source": [
    "### 2) parse the training folds for data counts"
   ]
  },
  {
   "cell_type": "code",
   "execution_count": 51,
   "metadata": {
    "collapsed": true
   },
   "outputs": [],
   "source": [
    "def parse_datafile(dataFile, senses_dict, senses_features_dict, fold, numFolds = 5):\n",
    "    \n",
    "    stop_words_list = ['a', 'about', 'above', 'across', 'after', 'afterwards', 'again', 'against', 'all', 'almost', 'alone', 'along', 'already', 'also', 'although', 'always', 'am', 'among', 'amongst', 'amount', 'an', 'and', 'another', 'any', 'anyhow', 'anyone', 'anything', 'anyway', 'anywhere', 'are', 'around', 'as', 'at', 'back', 'be', 'became', 'because', 'become', 'becomes', 'becoming', 'been', 'before', 'beforehand', 'behind', 'being', 'below', 'beside', 'besides', 'between', 'beyond', 'both', 'bottom', 'but', 'by', 'call', 'can', 'cannot', 'ca', 'could', 'did', 'do', 'does', 'doing', 'done', 'down', 'due', 'during', 'each', 'eight', 'either', 'eleven', 'else', 'elsewhere', 'empty', 'enough', 'etc', 'even', 'ever', 'every', 'everyone', 'everything', 'everywhere', 'except', 'few', 'fifteen', 'fifty', 'first', 'five', 'for', 'former', 'formerly', 'forty', 'four', 'from', 'front', 'full', 'further', 'get', 'give', 'go', 'had', 'has', 'have', 'he', 'hence', 'her', 'here', 'hereafter', 'hereby', 'herein', 'hereupon', 'hers', 'herself', 'him', 'himself', 'his', 'how', 'however', 'hundred', 'i', 'if', 'in', 'inc', 'indeed', 'into', 'is', 'it', 'its', 'itself', 'keep', 'last', 'latter', 'latterly', 'least', 'less', 'just', 'made', 'make', 'many', 'may', 'me', 'meanwhile', 'might', 'mine', 'more', 'moreover', 'most', 'mostly', 'move', 'much', 'must', 'my', 'myself', 'name', 'namely', 'neither', 'never', 'nevertheless', 'next', 'nine', 'no', 'nobody', 'none', 'noone', 'nor', 'not', 'nothing', 'now', 'nowhere', 'of', 'off', 'often', 'on', 'once', 'one', 'only', 'onto', 'or', 'other', 'others', 'otherwise', 'our', 'ours', 'ourselves', 'out', 'over', 'own', 'part', 'per', 'perhaps', 'please', 'put', 'quite', 'rather', 're', 'really', 'regarding', 'same', 'say', 'see', 'seem', 'seemed', 'seeming', 'seems', 'serious', 'several', 'she', 'should', 'show', 'side', 'since', 'six', 'sixty', 'so', 'some', 'somehow', 'someone', 'something', 'sometime', 'sometimes', 'somewhere', 'still', 'such', 'take', 'ten', 'than', 'that', 'the', 'their', 'them', 'themselves', 'then', 'thence', 'there', 'thereafter', 'thereby', 'therefore', 'therein', 'thereupon', 'these', 'they', 'third', 'this', 'those', 'though', 'three', 'through', 'throughout', 'thru', 'thus', 'to', 'together', 'too', 'top', 'toward', 'towards', 'twelve', 'twenty', 'two', 'under', 'until', 'up', 'unless', 'upon', 'us', 'used', 'using', 'various', 'very', 'very', 'via', 'was', 'we', 'well', 'were', 'what', 'whatever', 'when', 'whence', 'whenever', 'where', 'whereafter', 'whereas', 'whereby', 'wherein', 'whereupon', 'wherever', 'whether', 'which', 'while', 'whither', 'who', 'whoever', 'whole', 'whom', 'whose', 'why', 'will', 'with', 'within', 'without', 'would', 'yet', 'you', 'your', 'yours', 'yourself', 'yourselves', 'zero', 'one', 'two', 'three', 'four', 'five', 'six', 'seven', 'eight', 'nine', 'ten', 'eleven', 'twelve', 'thirteen', 'fourteen', 'fifteen', 'sixteen', 'seventeen', 'eighteen', 'nineteen', 'twenty', 'thirty', 'forty', 'fifty', 'sixty', 'seventy', 'eighty', 'ninety', 'hundred', 'thousand', 'million', 'billion', 'trillion', 'quadrillion', 'gajillion', 'bazillion', 'first', 'second', 'third', 'fourth', 'fifth', 'sixth', 'seventh', 'eigth', 'ninth', 'tenth', 'eleventh', 'twelveth', 'thirteenth', 'fourteenth', 'fifteenth', 'sixteenth', 'sventeenth', 'eighteenth', 'nineteenth', 'twentieth', '', 'thirtieth', 'fortieth', 'fiftieth', 'sixtieth', 'seventieth', 'eightieth', 'ninetieth', 'hundreth', 'thousandth', 'millionth', 'billionth', 'trillionth', 'quadrillionth', 'gajillionth', 'bazillionth']\n",
    "    stripList = ['.', '(', ')', ',', '-', '!', '?']\n",
    "    \n",
    "    with open(dataFile) as data:\n",
    "        train_count = 0\n",
    "        instance_count = 0\n",
    "        \n",
    "        # reset read file pointer\n",
    "        data.seek(0)\n",
    "        \n",
    "        # for each line in the file...\n",
    "        for line in data:\n",
    "\n",
    "            # if it's the start of a new instance...\n",
    "            if line.find(\"<instance\") != -1:\n",
    "                instance_count += 1\n",
    "                ID = line.split(\" \")[1].split(\"=\")[1].strip('\\\"')\n",
    "                sense = next(data).split(\" \")[2].split('%')[1].strip(\"\\\"/>\\n\")\n",
    "                \n",
    "                # if you're on a proper TRAINING line\n",
    "                if instance_count%numFolds != fold:\n",
    "                    train_count += 1\n",
    "                    startContext = next(data)\n",
    "                    \n",
    "                    # capture the message (and it's features)\n",
    "                    features = next(data).strip('. \\n').split(\" \")\n",
    "                    for word in features:\n",
    "                        \n",
    "                        # strip excess puntuation\n",
    "                        for stripItem in stripList:\n",
    "                            word = word.strip(stripItem)\n",
    "                        word = word.lower().strip()\n",
    "                        \n",
    "                        # store all new words as \"present\" features for each sense\n",
    "                        if word.find(\"<head>\") == -1 and word not in stop_words_list:\n",
    "                            for sense in senses_dict:\n",
    "                                if word not in senses_features_dict[sense]:\n",
    "                                    senses_features_dict[sense][word] = 1.0\n",
    "                                    \n",
    "    return senses_dict, senses_features_dict, instance_count, train_count"
   ]
  },
  {
   "cell_type": "markdown",
   "metadata": {},
   "source": [
    "### 3) make predictions on test fold instances"
   ]
  },
  {
   "cell_type": "code",
   "execution_count": 295,
   "metadata": {
    "collapsed": true
   },
   "outputs": [],
   "source": [
    "def predict_instances(dataFile, outputFile, senses_dict, senses_features_dict, sense_counts, fold, numFolds = 5):\n",
    "    \n",
    "    stop_words_list = ['a', 'about', 'above', 'across', 'after', 'afterwards', 'again', 'against', 'all', 'almost', 'alone', 'along', 'already', 'also', 'although', 'always', 'am', 'among', 'amongst', 'amount', 'an', 'and', 'another', 'any', 'anyhow', 'anyone', 'anything', 'anyway', 'anywhere', 'are', 'around', 'as', 'at', 'back', 'be', 'became', 'because', 'become', 'becomes', 'becoming', 'been', 'before', 'beforehand', 'behind', 'being', 'below', 'beside', 'besides', 'between', 'beyond', 'both', 'bottom', 'but', 'by', 'call', 'can', 'cannot', 'ca', 'could', 'did', 'do', 'does', 'doing', 'done', 'down', 'due', 'during', 'each', 'eight', 'either', 'eleven', 'else', 'elsewhere', 'empty', 'enough', 'etc', 'even', 'ever', 'every', 'everyone', 'everything', 'everywhere', 'except', 'few', 'fifteen', 'fifty', 'first', 'five', 'for', 'former', 'formerly', 'forty', 'four', 'from', 'front', 'full', 'further', 'get', 'give', 'go', 'had', 'has', 'have', 'he', 'hence', 'her', 'here', 'hereafter', 'hereby', 'herein', 'hereupon', 'hers', 'herself', 'him', 'himself', 'his', 'how', 'however', 'hundred', 'i', 'if', 'in', 'inc', 'indeed', 'into', 'is', 'it', 'its', 'itself', 'keep', 'last', 'latter', 'latterly', 'least', 'less', 'just', 'made', 'make', 'many', 'may', 'me', 'meanwhile', 'might', 'mine', 'more', 'moreover', 'most', 'mostly', 'move', 'much', 'must', 'my', 'myself', 'name', 'namely', 'neither', 'never', 'nevertheless', 'next', 'nine', 'no', 'nobody', 'none', 'noone', 'nor', 'not', 'nothing', 'now', 'nowhere', 'of', 'off', 'often', 'on', 'once', 'one', 'only', 'onto', 'or', 'other', 'others', 'otherwise', 'our', 'ours', 'ourselves', 'out', 'over', 'own', 'part', 'per', 'perhaps', 'please', 'put', 'quite', 'rather', 're', 'really', 'regarding', 'same', 'say', 'see', 'seem', 'seemed', 'seeming', 'seems', 'serious', 'several', 'she', 'should', 'show', 'side', 'since', 'six', 'sixty', 'so', 'some', 'somehow', 'someone', 'something', 'sometime', 'sometimes', 'somewhere', 'still', 'such', 'take', 'ten', 'than', 'that', 'the', 'their', 'them', 'themselves', 'then', 'thence', 'there', 'thereafter', 'thereby', 'therefore', 'therein', 'thereupon', 'these', 'they', 'third', 'this', 'those', 'though', 'three', 'through', 'throughout', 'thru', 'thus', 'to', 'together', 'too', 'top', 'toward', 'towards', 'twelve', 'twenty', 'two', 'under', 'until', 'up', 'unless', 'upon', 'us', 'used', 'using', 'various', 'very', 'very', 'via', 'was', 'we', 'well', 'were', 'what', 'whatever', 'when', 'whence', 'whenever', 'where', 'whereafter', 'whereas', 'whereby', 'wherein', 'whereupon', 'wherever', 'whether', 'which', 'while', 'whither', 'who', 'whoever', 'whole', 'whom', 'whose', 'why', 'will', 'with', 'within', 'without', 'would', 'yet', 'you', 'your', 'yours', 'yourself', 'yourselves', 'zero', 'one', 'two', 'three', 'four', 'five', 'six', 'seven', 'eight', 'nine', 'ten', 'eleven', 'twelve', 'thirteen', 'fourteen', 'fifteen', 'sixteen', 'seventeen', 'eighteen', 'nineteen', 'twenty', 'thirty', 'forty', 'fifty', 'sixty', 'seventy', 'eighty', 'ninety', 'hundred', 'thousand', 'million', 'billion', 'trillion', 'quadrillion', 'gajillion', 'bazillion', 'first', 'second', 'third', 'fourth', 'fifth', 'sixth', 'seventh', 'eigth', 'ninth', 'tenth', 'eleventh', 'twelveth', 'thirteenth', 'fourteenth', 'fifteenth', 'sixteenth', 'sventeenth', 'eighteenth', 'nineteenth', 'twentieth', '', 'thirtieth', 'fortieth', 'fiftieth', 'sixtieth', 'seventieth', 'eightieth', 'ninetieth', 'hundreth', 'thousandth', 'millionth', 'billionth', 'trillionth', 'quadrillionth', 'gajillionth', 'bazillionth']\n",
    "    stripList = ['.', '(', ')', ',', '-', '!', '?']\n",
    "    \n",
    "    # start new fold print\n",
    "    outputFile.write('Fold ' + str(fold+1) + '\\n')\n",
    "    \n",
    "    with open(dataFile) as data:\n",
    "        test_count = 0\n",
    "        correct_count = 0\n",
    "        instance_count = 0\n",
    "        \n",
    "        # reset read file pointer\n",
    "        data.seek(0)\n",
    "        \n",
    "        # for each line in the file...\n",
    "        for line in data:\n",
    "\n",
    "            # if it's the start of a new instance...\n",
    "            if line.find(\"<instance\") > -1:\n",
    "                instance_count += 1\n",
    "                ID = line.split(\" \")[1].split(\"=\")[1].strip('\\\"')\n",
    "                true_sense = next(data).split(\" \")[2].split('%')[1].strip(\"\\\"/>\\n\")\n",
    "                \n",
    "                # if you're on a proper TESTING line\n",
    "                if instance_count%numFolds == fold:\n",
    "                    test_count += 1\n",
    "                    startContext = next(data)\n",
    "                    \n",
    "                    # capture the message (and it's features)\n",
    "                    features = next(data).strip('. \\n').split(\" \")\n",
    "                    for word in features:\n",
    "                        \n",
    "                        # strip excess puntuation\n",
    "                        for stripItem in stripList:\n",
    "                            word = word.strip(stripItem)\n",
    "                        word = word.lower().strip()\n",
    "                        \n",
    "                        # store all new TEST words as \"absent\" features for each sense\n",
    "                        if word.find(\"<head>\") == -1 and word not in stop_words_list:\n",
    "                            for sense in senses_dict:\n",
    "                                if word not in senses_features_dict[sense]:\n",
    "                                    senses_features_dict[sense][word] = 0.0\n",
    "                    \n",
    "                    # conduct add-one smoothing\n",
    "                    for sense in senses_dict:\n",
    "                        for word in senses_features_dict[sense]:\n",
    "                            senses_features_dict[sense][word] += 0.01\n",
    "                    \n",
    "                    # calculate the argmax (probabilities for each sense)\n",
    "                    pred_probs = {}\n",
    "                    for sense in senses_dict:\n",
    "                        pred_probs[sense] = 1.0\n",
    "                        \n",
    "                        # factor in conditional probability for each word\n",
    "                        for word in features:\n",
    "                            \n",
    "                            # strip excess puntuation\n",
    "                            for stripItem in stripList:\n",
    "                                word = word.strip(stripItem)\n",
    "                            word = word.lower().strip()\n",
    "                            \n",
    "                            # calculate & factor-in feature probabilities\n",
    "                            if word.find(\"<head>\") == -1 and word not in stop_words_list:\n",
    "                                feat_prob = senses_features_dict[sense][word]/sense_counts[sense]\n",
    "                                pred_probs[sense] = pred_probs[sense] * feat_prob\n",
    "                        \n",
    "                        # calculate & factor-in sense probability\n",
    "                        sense_prob = sense_counts[sense]/sum(sense_counts.values())\n",
    "                        pred_probs[sense] = pred_probs[sense]*sense_prob\n",
    "                        #print(sense, pred_probs[sense])\n",
    "                    \n",
    "                    # identify the sense with the highest probability\n",
    "                    pred_sense = max(pred_probs.items(), key=operator.itemgetter(1))[0]\n",
    "                    sense_probs = [count / sum(sense_counts.values()) for count in sense_counts.values()]\n",
    "                    pred_sense = np.random.choice(sense_counts.keys(), p=sense_probs)\n",
    "                    \n",
    "                    # check if prediction is correct\n",
    "                    if pred_sense == true_sense:\n",
    "                        correct_count += 1\n",
    "\n",
    "                    # output prediction\n",
    "                    outputFile.write(ID + ' ' + ID.split('.')[0] + '%' + pred_sense + '\\n')\n",
    "                    \n",
    "                # otherwise, if not a test instance    \n",
    "                else:\n",
    "                    next(data)\n",
    "                    next(data)\n",
    "                \n",
    "                context_end = next(data)\n",
    "                instance_close_line = next(data)\n",
    "                empty_line = next(data)\n",
    "    \n",
    "    accuracy = float(correct_count/test_count)\n",
    "    print('Fold ' + str(fold+1) + ' accuracy: ' + str(accuracy))\n",
    "    outputFile.write('...'+'\\n')\n",
    "    \n",
    "    return accuracy"
   ]
  },
  {
   "cell_type": "code",
   "execution_count": null,
   "metadata": {
    "collapsed": true
   },
   "outputs": [],
   "source": []
  },
  {
   "cell_type": "markdown",
   "metadata": {},
   "source": [
    "## MAIN FUNCTION :"
   ]
  },
  {
   "cell_type": "markdown",
   "metadata": {},
   "source": [
    "### 1) read in filename"
   ]
  },
  {
   "cell_type": "code",
   "execution_count": 296,
   "metadata": {
    "collapsed": true
   },
   "outputs": [],
   "source": [
    "# SCRIPT NOTE: switch out arguments\n",
    "\n",
    "# read in file\n",
    "dataFile = \"WSD/tank.wsd\"\n",
    "#dataFile = sys.argv[1]"
   ]
  },
  {
   "cell_type": "markdown",
   "metadata": {},
   "source": [
    "### 2) create output file"
   ]
  },
  {
   "cell_type": "code",
   "execution_count": 297,
   "metadata": {
    "collapsed": true
   },
   "outputs": [],
   "source": [
    "# create output file: <word>.wsd.out\n",
    "outputName = dataFile + \".out\"\n",
    "outputFile = open(outputName, \"w\")"
   ]
  },
  {
   "cell_type": "markdown",
   "metadata": {},
   "source": [
    "### 3) parse & predict for all 5 CV folds"
   ]
  },
  {
   "cell_type": "code",
   "execution_count": 298,
   "metadata": {},
   "outputs": [
    {
     "name": "stdout",
     "output_type": "stream",
     "text": [
      "Fold 1 accuracy: 0.375\n",
      "Fold 2 accuracy: 0.512195121951\n",
      "Fold 3 accuracy: 0.475\n",
      "Fold 4 accuracy: 0.575\n",
      "Fold 5 accuracy: 0.55\n",
      "Average Accuracy: 0.49743902439\n"
     ]
    }
   ],
   "source": [
    "accuracy_list = []\n",
    "for fold in [0,1,2,3,4]:\n",
    "    \n",
    "    # establish senses\n",
    "    senses, features, tot_inst, tot_sens, sense_counts = establish_senses(dataFile)\n",
    "    \n",
    "    # parse the training folds for counts needed\n",
    "    senses, features, inst_count, train_count = parse_datafile(dataFile, senses, features, fold)\n",
    "    \n",
    "    # make predictions on test fold instances\n",
    "    accuracy = predict_instances(dataFile, outputFile, senses, features, sense_counts, fold)\n",
    "    accuracy_list.append(accuracy)\n",
    "\n",
    "avg_accuracy = sum(accuracy_list)/len(accuracy_list)\n",
    "print('Average Accuracy: ' + str(avg_accuracy))\n",
    "\n",
    "outputFile.close()"
   ]
  },
  {
   "cell_type": "code",
   "execution_count": null,
   "metadata": {
    "collapsed": true
   },
   "outputs": [],
   "source": []
  },
  {
   "cell_type": "code",
   "execution_count": null,
   "metadata": {
    "collapsed": true
   },
   "outputs": [],
   "source": []
  },
  {
   "cell_type": "code",
   "execution_count": null,
   "metadata": {
    "collapsed": true
   },
   "outputs": [],
   "source": []
  }
 ],
 "metadata": {
  "kernelspec": {
   "display_name": "Python [conda root]",
   "language": "python",
   "name": "conda-root-py"
  },
  "language_info": {
   "codemirror_mode": {
    "name": "ipython",
    "version": 2
   },
   "file_extension": ".py",
   "mimetype": "text/x-python",
   "name": "python",
   "nbconvert_exporter": "python",
   "pygments_lexer": "ipython2",
   "version": "2.7.13"
  }
 },
 "nbformat": 4,
 "nbformat_minor": 2
}
