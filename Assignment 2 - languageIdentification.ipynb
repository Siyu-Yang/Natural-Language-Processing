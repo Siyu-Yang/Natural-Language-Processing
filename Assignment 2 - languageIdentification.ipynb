{
 "cells": [
  {
   "cell_type": "markdown",
   "metadata": {},
   "source": [
    "# EECS 498 - Assignment 2 - languageIdentification.py\n",
    "### By: Alexander \"AJ\" Goldstein - uniquename: ajva"
   ]
  },
  {
   "cell_type": "code",
   "execution_count": 1,
   "metadata": {
    "collapsed": true
   },
   "outputs": [],
   "source": [
    "import csv\n",
    "import sys\n",
    "import pandas as pd\n",
    "import scipy\n",
    "import numpy as np\n",
    "import math\n",
    "from sklearn.preprocessing import OneHotEncoder\n",
    "from __future__ import division\n",
    "from operator import add, sub\n",
    "from random import shuffle\n",
    "import matplotlib.pyplot as plt"
   ]
  },
  {
   "cell_type": "markdown",
   "metadata": {},
   "source": [
    "## Pre-processing Functions:"
   ]
  },
  {
   "cell_type": "markdown",
   "metadata": {},
   "source": [
    "### 1) read in and process data"
   ]
  },
  {
   "cell_type": "code",
   "execution_count": 2,
   "metadata": {
    "collapsed": true
   },
   "outputs": [],
   "source": [
    "# input 1: dataFile (string) - name of data file\n",
    "# output 1: alphabet (dict) - unique dataFile characters (as keys) and their assigned alphaKey (as values)\n",
    "# output 2: fiveCharAlphas (dict) - five character sequences (as keys) and their alphaKeys (as values)\n",
    "# output 3: fiveCharLabels (dict) - five character sequences (as keys) and their languageCode (as values)\n",
    "\n",
    "def read_in_and_process_data(dataFile, alphabet, fiveCharAlphas):\n",
    "    \n",
    "    # create dictionaries and variables for tracking pre-processing\n",
    "    sentenceSeqs = {}\n",
    "    sentenceLabels = {}\n",
    "    fiveCharLabels = {}\n",
    "    alphaCount = len(alphabet.keys())\n",
    "    \n",
    "    with open(dataFile) as data:\n",
    "        for line in data:\n",
    "            fiveCharSeqs = []\n",
    "            language, space, sentence = line.partition(' ')\n",
    "            \n",
    "            # generate language encoding\n",
    "            languageCode = []\n",
    "            if language == 'ENGLISH':\n",
    "                languageCode = [1,0,0]\n",
    "            elif language == 'ITALIAN':\n",
    "                languageCode = [0,1,0]\n",
    "            elif language == 'FRENCH':\n",
    "                languageCode = [0,0,1]\n",
    "                \n",
    "            # store new characters in alphabet dictionary\n",
    "            for char in sentence:\n",
    "                if (char not in alphabet):\n",
    "                    alphabet[char] = alphaCount\n",
    "                    alphaCount += 1\n",
    "            \n",
    "            # create & store five character sequences (w/ languageKeys & alphaKeys)\n",
    "            for idx, char in enumerate(sentence):\n",
    "\n",
    "                # create five char sequence\n",
    "                if (idx + 5 <= len(sentence)):\n",
    "                    fiveChars = sentence[idx:idx+5]\n",
    "                    fiveCharSeqs.append(fiveChars)\n",
    "\n",
    "                    # generate sequence alphaKeys\n",
    "                    alphaKeys = []\n",
    "                    for singleChar in fiveChars:\n",
    "                        alphaKeys.append(alphabet[singleChar])\n",
    "\n",
    "                    # store alphaKeys and language\n",
    "                    fiveCharAlphas[fiveChars] = alphaKeys\n",
    "                    fiveCharLabels[fiveChars] = languageCode\n",
    "                    \n",
    "            # store fiveCharSeqs into sentenceSeqs before selecting new sentence\n",
    "            sentenceSeqs[sentence] = fiveCharSeqs\n",
    "            sentenceLabels[sentence] = languageCode\n",
    "                \n",
    "    return alphabet, sentenceSeqs, sentenceLabels, fiveCharAlphas, fiveCharLabels"
   ]
  },
  {
   "cell_type": "markdown",
   "metadata": {},
   "source": [
    "### 2) process TEST data (slightly different)"
   ]
  },
  {
   "cell_type": "code",
   "execution_count": 3,
   "metadata": {
    "collapsed": true
   },
   "outputs": [],
   "source": [
    "# input 1: dataFile (string) - name of data file\n",
    "# output 1: alphabet (dict) - unique dataFile characters (as keys) and their assigned alphaKey (as values)\n",
    "# output 2: fiveCharAlphas (dict) - five character sequences (as keys) and their alphaKeys (as values)\n",
    "# output 3: fiveCharLabels (dict) - five character sequences (as keys) and their languageCode (as values)\n",
    "\n",
    "def process_test_data(dataFile, solutionsFile, alphabet, fiveCharAlphas):\n",
    "    \n",
    "    # create dictionaries and variables for tracking pre-processing\n",
    "    sentenceSeqs = {}\n",
    "    sentenceLabels = {}\n",
    "    fiveCharLabels = {}\n",
    "    alphaCount = len(alphabet.keys())\n",
    "    \n",
    "    with open(dataFile) as data:\n",
    "        with open(solutionsFile) as sol:\n",
    "            for sentence, solLine in zip(data, sol):\n",
    "                \n",
    "                # set new storage\n",
    "                fiveCharSeqs = []\n",
    "                languageCode = []\n",
    "                \n",
    "                # get language from solutions\n",
    "                lineNum, space, language = solLine.partition(' ')\n",
    "                if language == 'English\\n':\n",
    "                    languageCode = [1,0,0]\n",
    "                elif language == 'Italian\\n':\n",
    "                    languageCode = [0,1,0]\n",
    "                elif language == 'French\\n':\n",
    "                    languageCode = [0,0,1]  \n",
    "                \n",
    "                # store new characters in alphabet dictionary\n",
    "                for char in sentence:\n",
    "                    if (char not in alphabet):\n",
    "                        alphabet[char] = alphaCount\n",
    "                        alphaCount += 1\n",
    "\n",
    "                # create & store five character sequences (w/ languageKeys & alphaKeys)\n",
    "                for idx, char in enumerate(sentence):\n",
    "\n",
    "                    # create five char sequence\n",
    "                    if (idx + 5 <= len(sentence)):\n",
    "                        fiveChars = sentence[idx:idx+5]\n",
    "                        fiveCharSeqs.append(fiveChars)\n",
    "\n",
    "                        # generate sequence alphaKeys\n",
    "                        alphaKeys = []\n",
    "                        for singleChar in fiveChars:\n",
    "                            alphaKeys.append(alphabet[singleChar])\n",
    "\n",
    "                        # store alphaKeys and language\n",
    "                        fiveCharAlphas[fiveChars] = alphaKeys\n",
    "                        fiveCharLabels[fiveChars] = languageCode\n",
    "\n",
    "                # store fiveCharSeqs into sentenceSeqs before selecting new sentence\n",
    "                sentenceSeqs[sentence] = fiveCharSeqs\n",
    "                sentenceLabels[sentence] = languageCode\n",
    "                \n",
    "    return alphabet, sentenceSeqs, sentenceLabels, fiveCharAlphas, fiveCharLabels"
   ]
  },
  {
   "cell_type": "markdown",
   "metadata": {},
   "source": [
    "### 3) one-hot-encode five character sequences"
   ]
  },
  {
   "cell_type": "code",
   "execution_count": 4,
   "metadata": {
    "collapsed": true
   },
   "outputs": [],
   "source": [
    "# input 1: fiveCharAlphas (dict) - five character sequences (as keys) and their alphaKeys (as values)\n",
    "# output 1: fiveCharEncodings (dict) - five character sequences (as keys) and their ONE-HOT ENCODINGS (as values)\n",
    "\n",
    "def one_hot_encode_sequences(fiveCharAlphas):\n",
    "    \n",
    "    # create dictionary for encoding storage\n",
    "    fiveCharEncodings = {}\n",
    "    \n",
    "    # fit encoder to given five character sequences\n",
    "    enc = OneHotEncoder()\n",
    "    enc.fit(fiveCharAlphas.values())\n",
    "    \n",
    "    # generate one-hot-encodings for every five character sequence\n",
    "    for sequence, alphaKeys in fiveCharAlphas.items():\n",
    "        encoding = enc.transform([alphaKeys]).todense()\n",
    "        fiveCharEncodings[sequence] = encoding\n",
    "    \n",
    "    return fiveCharEncodings"
   ]
  },
  {
   "cell_type": "markdown",
   "metadata": {},
   "source": [
    "## Neural Network Functions: Calculations"
   ]
  },
  {
   "cell_type": "markdown",
   "metadata": {},
   "source": [
    "### 1) initialize weights"
   ]
  },
  {
   "cell_type": "code",
   "execution_count": 5,
   "metadata": {
    "collapsed": true
   },
   "outputs": [],
   "source": [
    "# initialize weight & bias matrices\n",
    "def initialize_weights_and_biases(inputSize, hiddenSize, outputSize):\n",
    "    weights1 = np.array([[np.random.uniform(low=(-1.0), high=(1.0)) for y in range(inputSize)] for x in range(hiddenSize)])\n",
    "    weights2 = np.array([[np.random.uniform(low=(-1.0), high=(1.0)) for y in range(hiddenSize)] for x in range(outputSize)])\n",
    "    biases1 = np.array([np.random.uniform(low=(-1.0), high=(1.0)) for y in range(hiddenSize)])\n",
    "    biases2 = np.array([np.random.uniform(low=(-1.0), high=(1.0)) for y in range(outputSize)])\n",
    "    \n",
    "    return weights1, weights2, biases1, biases2"
   ]
  },
  {
   "cell_type": "markdown",
   "metadata": {},
   "source": [
    "### 2) forward propogation"
   ]
  },
  {
   "cell_type": "code",
   "execution_count": 6,
   "metadata": {
    "collapsed": true
   },
   "outputs": [],
   "source": [
    "def sigmoid(z):\n",
    "    return 1/(1+np.exp(-1*z))"
   ]
  },
  {
   "cell_type": "code",
   "execution_count": 7,
   "metadata": {
    "collapsed": true
   },
   "outputs": [],
   "source": [
    "# calculate hidden layer from input layer using sigmoid function\n",
    "def calculate_hidden_layer(x, W1, b1):\n",
    "    h_prime = np.array(map(add, np.dot(W1,x.T), b1))\n",
    "    h = np.array(map(sigmoid, h_prime))\n",
    "    h = h.reshape(h.shape[0], 1)\n",
    "    return h, h_prime"
   ]
  },
  {
   "cell_type": "code",
   "execution_count": 8,
   "metadata": {
    "collapsed": true
   },
   "outputs": [],
   "source": [
    "def softmax(y):\n",
    "    return np.exp(y)/(np.exp(y).sum())"
   ]
  },
  {
   "cell_type": "code",
   "execution_count": 9,
   "metadata": {
    "collapsed": true
   },
   "outputs": [],
   "source": [
    "def calculate_output_layer(h, W2, b2):\n",
    "    y_prime = map(add, np.dot(W2,h), b2)\n",
    "    y_pred = np.array(softmax(y_prime))\n",
    "    y_pred = y_pred.reshape(y_pred.shape[0])\n",
    "    return y_pred, y_prime"
   ]
  },
  {
   "cell_type": "markdown",
   "metadata": {},
   "source": [
    "### 2) backpropogation"
   ]
  },
  {
   "cell_type": "code",
   "execution_count": 10,
   "metadata": {
    "collapsed": true
   },
   "outputs": [],
   "source": [
    "def calculate_squared_loss(y_pred, y_true):\n",
    "    return 0.5*(pow(y_pred - y_true,2))"
   ]
  },
  {
   "cell_type": "code",
   "execution_count": 11,
   "metadata": {
    "collapsed": true
   },
   "outputs": [],
   "source": [
    "def softmax_grad(s):\n",
    "    s = s.reshape(-1,1)\n",
    "    s_ = s.reshape(1,-1)\n",
    "    return np.diagflat(s_) - np.dot(s, s.T)\n",
    "\n",
    "def loss_sqr_grad(y_pred, y_true):\n",
    "    return y_pred - y_true\n",
    "\n",
    "def loss_sqr_softmax_grad(y_pred, y_true):\n",
    "    return np.dot(loss_sqr_grad(y_pred, y_true).T, softmax_grad(y_pred)).reshape(-1,1)"
   ]
  },
  {
   "cell_type": "code",
   "execution_count": 12,
   "metadata": {
    "collapsed": true
   },
   "outputs": [],
   "source": [
    "def backpropogation(x, h_prime, h, y_prime, y_pred, y_true, W1, W2):\n",
    "    \n",
    "    # output to hidden layer\n",
    "    y_prime_loss = loss_sqr_softmax_grad(y_pred, y_true)\n",
    "    \n",
    "    # hidden layer\n",
    "    W2_loss = np.dot(y_prime_loss,h.T)\n",
    "    b2_loss = y_prime_loss\n",
    "    h_loss = np.dot(W2.T,y_prime_loss)\n",
    "    \n",
    "    h_prime_loss = np.multiply(h_loss, np.multiply(h, (1.0-h)))\n",
    "    \n",
    "    # hidden layer to input layer\n",
    "    W1_loss = np.dot(h_prime_loss,x)\n",
    "    b1_loss = h_prime_loss\n",
    "    x_loss = np.dot(W1.T,h_prime_loss)\n",
    "    \n",
    "    # make small reshapes\n",
    "    b2_loss = np.array(b2_loss)\n",
    "    b2_loss = b2_loss.reshape(b2_loss.shape[0])\n",
    "    b1_loss = b1_loss.reshape(b1_loss.shape[0])\n",
    "    \n",
    "    return W1_loss, W2_loss, b1_loss, b2_loss"
   ]
  },
  {
   "cell_type": "markdown",
   "metadata": {},
   "source": [
    "### 4) gradient descent"
   ]
  },
  {
   "cell_type": "code",
   "execution_count": 13,
   "metadata": {
    "collapsed": true
   },
   "outputs": [],
   "source": [
    "def gradient_descent(learningRate, W1, W2, b1, b2, W1_loss, W2_loss, b1_loss, b2_loss):\n",
    "    \n",
    "    # theta_new = theta_old - rate*loss\n",
    "    W1_new = W1 - learningRate*W1_loss\n",
    "    W2_new = W2 - learningRate*W2_loss\n",
    "    b1_new = b1 - learningRate*b1_loss\n",
    "    b2_new = b2 - learningRate*b2_loss\n",
    "    \n",
    "    return W1_new, W2_new, b1_new, b2_new"
   ]
  },
  {
   "cell_type": "markdown",
   "metadata": {},
   "source": [
    "## Neural Network Functions: Implementation"
   ]
  },
  {
   "cell_type": "markdown",
   "metadata": {},
   "source": [
    "### 1) calculate NN accuracy"
   ]
  },
  {
   "cell_type": "code",
   "execution_count": 14,
   "metadata": {
    "collapsed": true
   },
   "outputs": [],
   "source": [
    "# NOTE: replace sentenceSeqs with sentenceSeqs before official running!!\n",
    "\n",
    "def calculate_NN_accuracy(sentenceSeqs, sentenceLabels, fiveCharEncodings, fiveCharLabels, W1, W2, b1, b2):\n",
    "    \n",
    "    # storage for each prediction\n",
    "    predictions = {} # {sentence:languagePredict}\n",
    "    predictOutcomes = [] #True/False for each prediction\n",
    "    \n",
    "    # loop through all the sentences\n",
    "    for sentence, fiveCharSeqs in sentenceSeqs.items():\n",
    "        sentencePredTotals = [0,0,0]\n",
    "        \n",
    "        # run the neural network on one five character sequence at a time\n",
    "        for fiveChars in fiveCharSeqs:\n",
    "    \n",
    "            # generate input, hidden, and output layers\n",
    "            x = np.array(fiveCharEncodings[fiveChars])\n",
    "            h, h_prime = calculate_hidden_layer(x, W1, b1)\n",
    "            y_pred, y_prime = calculate_output_layer(h, W2, b2)\n",
    "\n",
    "            # add on current sequence prediction\n",
    "            sentencePredTotals += y_pred\n",
    "    \n",
    "        # get true language for current sentence\n",
    "        y_true = sentenceLabels[sentence]\n",
    "        \n",
    "        # check sentence prediction accuracy via majority vote of five character sequences\n",
    "        # check for True or False prediction outcome\n",
    "        predLang = np.argmax(sentencePredTotals)\n",
    "        trueLang = y_true.index(max(y_true))\n",
    "        predictOutcomes.append(True) if predLang == trueLang else predictOutcomes.append(False)\n",
    "        \n",
    "        # store language prediction\n",
    "        langPredicted = ''\n",
    "        if predLang == 0:\n",
    "            langPredicted = 'English'\n",
    "        elif predLang == 1:\n",
    "            langPredicted = 'Italian'\n",
    "        elif predLang == 2:\n",
    "            langPredicted = 'French'\n",
    "        predictions[sentence] = langPredicted\n",
    "        \n",
    "    # calculate overall accuracy of this run through\n",
    "    accuracy = sum(predictOutcomes)/len(predictOutcomes)\n",
    "    print(\"accuracy:\",accuracy)\n",
    "    \n",
    "    return accuracy, predictions"
   ]
  },
  {
   "cell_type": "markdown",
   "metadata": {},
   "source": [
    "### 2) train NN weights"
   ]
  },
  {
   "cell_type": "code",
   "execution_count": 15,
   "metadata": {
    "collapsed": true
   },
   "outputs": [],
   "source": [
    "# NOTE: replace sentenceSeqs with sentenceSeqs before official running!!\n",
    "\n",
    "def train_neural_net(sentenceSeqs, fiveCharEncodings, fiveCharLabels, learningRate, W1, W2, b1, b2):\n",
    "    \n",
    "    fiveCharSeqs = list(fiveCharLabels.keys())\n",
    "    shuffle(fiveCharSeqs)\n",
    "\n",
    "    # run the neural network on one RANDOM five character sequence at a time\n",
    "    for fiveChars in fiveCharSeqs:\n",
    "\n",
    "        # generate input, hidden, and output layers\n",
    "        x = np.array(fiveCharEncodings[fiveChars])\n",
    "        h, h_prime = calculate_hidden_layer(x, W1, b1)\n",
    "        y_pred, y_prime = calculate_output_layer(h, W2, b2)\n",
    "\n",
    "        # get true language for current sentence\n",
    "        y_true = fiveCharLabels[fiveChars]\n",
    "        loss = calculate_squared_loss(y_pred, y_true)\n",
    "\n",
    "        # conduct backpropogation\n",
    "        W1_loss, W2_loss, b1_loss, b2_loss = backpropogation(x, h_prime, h, y_prime, y_pred, y_true, W1, W2)\n",
    "\n",
    "        # use gradient descent to update weights with backpropogation gradients\n",
    "        W1, W2, b1, b2 = gradient_descent(learningRate, W1, W2, b1, b2, W1_loss, W2_loss, b1_loss, b2_loss)\n",
    "    \n",
    "    # return new weights\n",
    "    return W1, W2, b1, b2"
   ]
  },
  {
   "cell_type": "markdown",
   "metadata": {},
   "source": [
    "### 3) run the neural network"
   ]
  },
  {
   "cell_type": "code",
   "execution_count": 16,
   "metadata": {
    "collapsed": true
   },
   "outputs": [],
   "source": [
    "# NOTE: replace sentenceSeqs with sentenceSeqs before official running!!\n",
    "\n",
    "def run_neural_net(sentenceSeqs_t, sentenceLabels_t, fiveCharLabels_t, \n",
    "                   sentenceSeqs_d, sentenceLabels_d, fiveCharLabels_d, \n",
    "                   fiveCharEncodings, learningRate, hiddenSize, outputSize = 3):\n",
    "    \n",
    "    # set runCount and create accuracy storage\n",
    "    runCount = 1\n",
    "    NN_Accuracies = []\n",
    "    \n",
    "    # set inputSize, randomly initialize weights\n",
    "    inputSize = fiveCharEncodings.values()[0].shape[1]\n",
    "    W1, W2, b1, b2 = initialize_weights_and_biases(inputSize, hiddenSize, outputSize)\n",
    "    \n",
    "    # calculate & store starting accuracy on the train & dev data\n",
    "    startTrainAcc, predictions = calculate_NN_accuracy(sentenceSeqs_t, sentenceLabels_t, fiveCharEncodings, fiveCharLabels_t, W1, W2, b1, b2)\n",
    "    startDevAcc, predictions = calculate_NN_accuracy(sentenceSeqs_d, sentenceLabels_d, fiveCharEncodings, fiveCharLabels_d, W1, W2, b1, b2)\n",
    "    NN_Accuracies.append([startTrainAcc, startDevAcc])\n",
    "    \n",
    "    while runCount <= 3:\n",
    "        print(\"runCount =\",runCount)\n",
    "        \n",
    "        # train neural net weights\n",
    "        W1, W2, b1, b2 = train_neural_net(sentenceSeqs_t, fiveCharEncodings, fiveCharLabels_t, learningRate, W1, W2, b1, b2)\n",
    "        \n",
    "        # calculate & store accuracy with updated weights\n",
    "        trainAccuracy, predictions = calculate_NN_accuracy(sentenceSeqs_t, sentenceLabels_t, fiveCharEncodings, fiveCharLabels_t, W1, W2, b1, b2)\n",
    "        devAccuracy, predictions = calculate_NN_accuracy(sentenceSeqs_d, sentenceLabels_d, fiveCharEncodings, fiveCharLabels_d, W1, W2, b1, b2)\n",
    "        NN_Accuracies.append([trainAccuracy, devAccuracy])\n",
    "        \n",
    "        # index runCount\n",
    "        runCount += 1\n",
    "    \n",
    "    # return all accuracies & final NN weights\n",
    "    return NN_Accuracies, W1, W2, b1, b2"
   ]
  },
  {
   "cell_type": "markdown",
   "metadata": {},
   "source": [
    "## Optimize Hyperparameters Function:"
   ]
  },
  {
   "cell_type": "code",
   "execution_count": 17,
   "metadata": {
    "collapsed": true
   },
   "outputs": [],
   "source": [
    "def optimize_hyperparameters(sentenceSeqs_t, sentenceLabels_t, fiveCharLabels_t, \n",
    "                                 sentenceSeqs_d, sentenceLabels_d, fiveCharLabels_d,\n",
    "                                     sentenceSeqs_TEST, sentenceLabels_TEST, fiveCharLabels_TEST, \n",
    "                                         fiveCharEncodings,  outputSize = 3):\n",
    "    \n",
    "    # 0) select at least 5 different sets of hyperparameter values\n",
    "    hyperparams = []\n",
    "    hyperparams.append([50,1.0])\n",
    "    hyperparams.append([50,10.0])\n",
    "    hyperparams.append([200,1.0])\n",
    "    hyperparams.append([200,10.0])\n",
    "    hyperparams.append([100,1.0])\n",
    "\n",
    "    # 2) see which performs best on the dev data\n",
    "    bestAccuracy = 0\n",
    "    bestParams = []\n",
    "    bestWeights = []\n",
    "\n",
    "    for param in hyperparams:\n",
    "        hiddenSize = param[0]\n",
    "        learningRate = param[1]\n",
    "\n",
    "        # set inputSize, randomly initialize weights\n",
    "        inputSize = fiveCharEncodings.values()[0].shape[1]\n",
    "        W1, W2, b1, b2 = initialize_weights_and_biases(inputSize, hiddenSize, outputSize = 3)\n",
    "\n",
    "        # train network on the training data\n",
    "        W1, W2, b1, b2 = train_neural_net(sentenceSeqs_t, fiveCharEncodings, fiveCharLabels_t, learningRate, W1, W2, b1, b2)\n",
    "\n",
    "        # test on the dev data\n",
    "        devAccuracy, predictions = calculate_NN_accuracy(sentenceSeqs_d, sentenceLabels_d, fiveCharEncodings, fiveCharLabels_d, W1, W2, b1, b2)\n",
    "\n",
    "        # update best accuracy and parameters\n",
    "        if devAccuracy > bestAccuracy:\n",
    "            bestAccuracy = devAccuracy\n",
    "            bestParams = [hiddenSize, learningRate]\n",
    "            bestWeights = [W1, W2, b1, b2]\n",
    "\n",
    "    # 3) use best hyperparameters to calculate accuracy on test data\n",
    "    W1_best = bestWeights[0]\n",
    "    W2_best = bestWeights[1]\n",
    "    b1_best = bestWeights[2]\n",
    "    b2_best = bestWeights[3]\n",
    "\n",
    "    testAccuracy, predictions = calculate_NN_accuracy(sentenceSeqs_TEST, sentenceLabels_TEST,\n",
    "                                                      fiveCharEncodings, fiveCharLabels_TEST,\n",
    "                                                      W1_best, W2_best, b1_best, b2_best)\n",
    "\n",
    "    return testAccuracy, bestParams"
   ]
  },
  {
   "cell_type": "code",
   "execution_count": 18,
   "metadata": {
    "collapsed": true
   },
   "outputs": [],
   "source": [
    "# SCRIPT NOTE: switch out arguments\n",
    "# read in file names\n",
    "trainFile = \"languageIdentification.data/train\"\n",
    "devFile = \"languageIdentification.data/dev\"\n",
    "testFile = \"languageIdentification.data/test\"\n",
    "\n",
    "#trainFile = sys.argv[1]\n",
    "#devFile = sys.argv[2]\n",
    "#testFile = sys.argv[3]\n",
    "\n",
    "testSolFile = \"languageIdentification.data/test_solutions\""
   ]
  },
  {
   "cell_type": "code",
   "execution_count": 19,
   "metadata": {
    "collapsed": true
   },
   "outputs": [],
   "source": [
    "# read in and process trainFile, devFile, testFile\n",
    "alphabet = {}\n",
    "fiveCharAlphas = {}\n",
    "alphabet, sentenceSeqs_t, sentenceLabels_t, fiveCharAlphas, fiveCharLabels_t = read_in_and_process_data(trainFile, alphabet, fiveCharAlphas)\n",
    "alphabet, sentenceSeqs_d, sentenceLabels_d, fiveCharAlphas, fiveCharLabels_d = read_in_and_process_data(devFile, alphabet, fiveCharAlphas)\n",
    "alphabet, sentenceSeqs_TEST, sentenceLabels_TEST, fiveCharAlphas, fiveCharLabels_TEST = process_test_data(testFile, testSolFile, alphabet, fiveCharAlphas)"
   ]
  },
  {
   "cell_type": "code",
   "execution_count": 20,
   "metadata": {
    "collapsed": true
   },
   "outputs": [],
   "source": [
    "def randomSampleDict(dictionary, size):\n",
    "    dictionary_keys = dictionary.keys()[:size]\n",
    "    shuffle(dictionary_keys)\n",
    "    dictionary_vals = dictionary.values()[:size]\n",
    "    shuffle(dictionary_vals)\n",
    "    dictionary = dict(zip(dictionary_keys, dictionary_vals))\n",
    "    return dictionary"
   ]
  },
  {
   "cell_type": "code",
   "execution_count": 21,
   "metadata": {
    "collapsed": true
   },
   "outputs": [],
   "source": [
    "sentenceSeqs_t = randomSampleDict(sentenceSeqs_t, 20)\n",
    "sentenceSeqs_d = randomSampleDict(sentenceSeqs_d, 20)\n",
    "#sentenceSeqs_TEST = randomSampleDict(sentenceSeqs_TEST, 10)"
   ]
  },
  {
   "cell_type": "code",
   "execution_count": 22,
   "metadata": {
    "collapsed": true,
    "scrolled": false
   },
   "outputs": [],
   "source": [
    "# encode five character sequences\n",
    "fiveCharEncodings = one_hot_encode_sequences(fiveCharAlphas)"
   ]
  },
  {
   "cell_type": "code",
   "execution_count": 25,
   "metadata": {
    "collapsed": true
   },
   "outputs": [],
   "source": [
    "# 0) set hyperparameters\n",
    "hiddenSize = 100\n",
    "learningRate = 0.1"
   ]
  },
  {
   "cell_type": "code",
   "execution_count": 26,
   "metadata": {
    "scrolled": false
   },
   "outputs": [
    {
     "name": "stdout",
     "output_type": "stream",
     "text": [
      "('accuracy:', 0.3)\n",
      "('accuracy:', 0.3)\n",
      "('runCount =', 1)\n",
      "('accuracy:', 0.35)\n",
      "('accuracy:', 0.35)\n",
      "('runCount =', 2)\n",
      "('accuracy:', 0.4)\n",
      "('accuracy:', 0.4)\n",
      "('runCount =', 3)\n",
      "('accuracy:', 0.35)\n",
      "('accuracy:', 0.35)\n"
     ]
    }
   ],
   "source": [
    "# run neural network (for 3 epochs), calculate accuracies and weights/biases\n",
    "NN_Accuracies, W1, W2, b1, b2 = run_neural_net(sentenceSeqs_t, sentenceLabels_t, fiveCharLabels_t, \n",
    "                                               sentenceSeqs_d, sentenceLabels_d, fiveCharLabels_d, \n",
    "                                               fiveCharEncodings, learningRate, hiddenSize, outputSize = 3)"
   ]
  },
  {
   "cell_type": "code",
   "execution_count": 27,
   "metadata": {},
   "outputs": [
    {
     "data": {
      "image/png": "[encoded data removed]",
      "text/plain": [
       "<matplotlib.figure.Figure at 0x11399bd10>"
      ]
     },
     "metadata": {},
     "output_type": "display_data"
    }
   ],
   "source": [
    "# plot accuracies\n",
    "train_accuracies = [0,0,0,0]\n",
    "dev_accuracies = [0,0,0,0]\n",
    "for idx, accuracy in enumerate(NN_Accuracies):\n",
    "    train_accuracies[idx] = NN_Accuracies[idx][0]\n",
    "    dev_accuracies[idx] = NN_Accuracies[idx][1]\n",
    "\n",
    "plt.plot([0,1,2,3], train_accuracies, 'b-', label='train')\n",
    "plt.plot([0,1,2,3], dev_accuracies, 'r-', label='dev')\n",
    "plt.legend(loc='best')\n",
    "plt.xlabel('epoch #')\n",
    "plt.ylabel('accuracy')\n",
    "plt.savefig('accuracy.png', bbox_inches='tight')\n",
    "plt.show()"
   ]
  },
  {
   "cell_type": "code",
   "execution_count": 28,
   "metadata": {},
   "outputs": [
    {
     "name": "stdout",
     "output_type": "stream",
     "text": [
      "('accuracy:', 0.9697986577181208)\n",
      "('testAccuracy:', 0.9697986577181208)\n"
     ]
    }
   ],
   "source": [
    "# calculate accuracy on test data\n",
    "testAccuracy, predictions = calculate_NN_accuracy(sentenceSeqs_TEST, sentenceLabels_TEST, fiveCharEncodings, fiveCharLabels_TEST, W1, W2, b1, b2)\n",
    "print(\"testAccuracy:\", testAccuracy)"
   ]
  },
  {
   "cell_type": "code",
   "execution_count": 29,
   "metadata": {
    "collapsed": true
   },
   "outputs": [],
   "source": [
    "# produce predictions output file\n",
    "output = \"languageIdentificationPart1.output\"\n",
    "f = open(output, \"w\")\n",
    "\n",
    "for sentence, language in predictions.items():\n",
    "    f.write(sentence.rstrip() + ' ' + language + '\\n')\n",
    "\n",
    "f.close()"
   ]
  },
  {
   "cell_type": "code",
   "execution_count": 30,
   "metadata": {
    "scrolled": true
   },
   "outputs": [
    {
     "name": "stdout",
     "output_type": "stream",
     "text": [
      "('accuracy:', 0.35)\n",
      "('accuracy:', 0.45)\n",
      "('accuracy:', 0.45)\n",
      "('accuracy:', 0.3)\n",
      "('accuracy:', 0.3)\n",
      "('accuracy:', 0.33221476510067116)\n",
      "Best Performing Hyperparameters: hiddenSize: 50 learningRate: 10.0\n",
      "Accuracy of best language identifier: 0.332214765101\n"
     ]
    }
   ],
   "source": [
    "# optimize hyperparameters\n",
    "# return optimal accuracy and best hyperparameters\n",
    "optimalAccuracy, bestParams = optimize_hyperparameters(sentenceSeqs_t, sentenceLabels_t, fiveCharLabels_t, \n",
    "                                 sentenceSeqs_d, sentenceLabels_d, fiveCharLabels_d,\n",
    "                                     sentenceSeqs_TEST, sentenceLabels_TEST, fiveCharLabels_TEST, \n",
    "                                         fiveCharEncodings,  outputSize = 3)\n",
    "\n",
    "print(\"Best Performing Hyperparameters: \" + \"hiddenSize: \" + str(bestParams[0]) + \" learningRate: \" + str(bestParams[1]))\n",
    "print(\"Accuracy of best language identifier: \" + str(optimalAccuracy))"
   ]
  },
  {
   "cell_type": "code",
   "execution_count": null,
   "metadata": {
    "collapsed": true
   },
   "outputs": [],
   "source": []
  }
 ],
 "metadata": {
  "kernelspec": {
   "display_name": "Python [conda root]",
   "language": "python",
   "name": "conda-root-py"
  },
  "language_info": {
   "codemirror_mode": {
    "name": "ipython",
    "version": 2
   },
   "file_extension": ".py",
   "mimetype": "text/x-python",
   "name": "python",
   "nbconvert_exporter": "python",
   "pygments_lexer": "ipython2",
   "version": "2.7.13"
  }
 },
 "nbformat": 4,
 "nbformat_minor": 2
}
