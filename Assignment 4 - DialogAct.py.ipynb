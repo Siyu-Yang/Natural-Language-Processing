{
 "cells": [
  {
   "cell_type": "markdown",
   "metadata": {},
   "source": [
    "# EECS 498 - Assignment 4 - Dialog Act Classification\n",
    "### By: Alexander \"AJ\" Goldstein - uniquename: ajva"
   ]
  },
  {
   "cell_type": "code",
   "execution_count": 104,
   "metadata": {
    "collapsed": true
   },
   "outputs": [],
   "source": [
    "import csv\n",
    "import sys\n",
    "import pandas as pd\n",
    "import scipy\n",
    "import numpy as np\n",
    "import math\n",
    "from __future__ import division\n",
    "import random\n",
    "from random import shuffle\n",
    "import matplotlib.pyplot as plt\n",
    "import operator"
   ]
  },
  {
   "cell_type": "markdown",
   "metadata": {},
   "source": [
    "## Pre-processing Functions:"
   ]
  },
  {
   "cell_type": "markdown",
   "metadata": {},
   "source": [
    "### 1) establish possible senses for current word disambiguation"
   ]
  },
  {
   "cell_type": "code",
   "execution_count": 120,
   "metadata": {
    "collapsed": true
   },
   "outputs": [],
   "source": [
    "def establish_dialogs(dataFile):\n",
    "    \n",
    "    dialogs_dict = {}\n",
    "    dialogs_features_dict = {}\n",
    "    total_instances = 0\n",
    "    total_dialogs = 0\n",
    "    \n",
    "    with open(dataFile) as data:\n",
    "        \n",
    "        # reset read file pointer\n",
    "        data.seek(0)\n",
    "        \n",
    "        # for each line in the file...\n",
    "        for line in data:\n",
    "            \n",
    "            # if it's the start of a new instance...\n",
    "            if line.find(\"Advisor\") != -1:\n",
    "                total_instances += 1\n",
    "                \n",
    "                dialog_act = line.split(\" \")[1]\n",
    "                if dialog_act.find('[') == 0:\n",
    "                    \n",
    "                    # store or index dialog act (depending on if it's new)\n",
    "                    if dialog_act not in dialogs_dict:\n",
    "                        total_dialogs += 1\n",
    "                        dialogs_dict[dialog_act] = 1\n",
    "                        dialogs_features_dict[dialog_act] = {}\n",
    "                    else:\n",
    "                        dialogs_dict[dialog_act] += 1\n",
    "        \n",
    "    return dialogs_dict, dialogs_features_dict, total_instances, total_dialogs"
   ]
  },
  {
   "cell_type": "markdown",
   "metadata": {},
   "source": [
    "### 2) parse the training folds for data counts"
   ]
  },
  {
   "cell_type": "code",
   "execution_count": 121,
   "metadata": {
    "collapsed": true
   },
   "outputs": [],
   "source": [
    "def parse_datafile(dataFile, dialogs_dict, dialogs_features_dict):\n",
    "    \n",
    "    stripList = ['.', '(', ')', ',', '-', '!', '?']\n",
    "    \n",
    "    with open(dataFile) as data:\n",
    "        \n",
    "        # reset read file pointer\n",
    "        data.seek(0)\n",
    "        \n",
    "        # for each line in the file...\n",
    "        prev_line = ''\n",
    "        for line in data:\n",
    "            \n",
    "            # if it's the start of a new instance...\n",
    "            if line.find(\"Advisor\") != -1:\n",
    "                \n",
    "                # capture the advisor's dialog act\n",
    "                dialog_act = line.split(\" \")[1]\n",
    "                if dialog_act.find('[') == 0:\n",
    "                        \n",
    "                    # get the features from the previous line\n",
    "                    features = prev_line.strip('\\n')\n",
    "                    if features.find(\"Student:\") == 0:\n",
    "                        \n",
    "                        # loop through each word in the features\n",
    "                        features_split = features.split(' ')\n",
    "                        for idx in range(1, len(features_split)):\n",
    "                            \n",
    "                            # strip excess puntuation\n",
    "                            for stripItem in stripList:\n",
    "                                features_split[idx] = features_split[idx].strip(stripItem)\n",
    "                            features_split[idx] = features_split[idx].lower().strip()\n",
    "                        \n",
    "                            # store all new words as \"present\"\n",
    "                            if features_split[idx] not in dialogs_features_dict[dialog_act]:\n",
    "                                dialogs_features_dict[dialog_act][features_split[idx]] = 1.0\n",
    "            \n",
    "            # set previous line for next go-around\n",
    "            prev_line = line\n",
    "                                    \n",
    "    return dialogs_dict, dialogs_features_dict"
   ]
  },
  {
   "cell_type": "markdown",
   "metadata": {},
   "source": [
    "### 3) make predictions on test fold instances"
   ]
  },
  {
   "cell_type": "code",
   "execution_count": 149,
   "metadata": {},
   "outputs": [],
   "source": [
    "def predict_instances(testFile, outputFile, dialogs_dict, dialogs_features_dict):\n",
    "    \n",
    "    stripList = ['.', '(', ')', ',', '-', '!', '?']\n",
    "    \n",
    "    with open(testFile) as data:\n",
    "        test_count = 0\n",
    "        correct_count = 0\n",
    "        \n",
    "        # reset read file pointer\n",
    "        data.seek(0)\n",
    "        \n",
    "        # for each line in the file...\n",
    "        prev_line = ''\n",
    "        for line in data:\n",
    "            \n",
    "            # if it's the start of a new instance...\n",
    "            if line.find(\"Advisor\") != -1:\n",
    "                test_count += 1\n",
    "                \n",
    "                # capture the advisor's dialog act\n",
    "                dialog_act = line.split(\" \")[1]\n",
    "                true_dialog = dialog_act\n",
    "                if dialog_act.find('[') == 0:\n",
    "                        \n",
    "                    # get the features from the previous line\n",
    "                    features = prev_line.strip('\\n')\n",
    "                    features_split = []\n",
    "                    if features.find(\"Student:\") == 0:\n",
    "                        \n",
    "                        # loop through each word in the features\n",
    "                        features_split = features.split(' ')\n",
    "                        for idx in range(1, len(features_split)):\n",
    "                            \n",
    "                            # strip excess puntuation\n",
    "                            for stripItem in stripList:\n",
    "                                features_split[idx] = features_split[idx].strip(stripItem)\n",
    "                            features_split[idx] = features_split[idx].lower().strip()\n",
    "                        \n",
    "                            # store all new words as \"absent\"\n",
    "                            if features_split[idx] not in dialogs_features_dict[dialog_act]:\n",
    "                                for dialog in dialogs_dict:\n",
    "                                    dialogs_features_dict[dialog_act][features_split[idx]] = 0.01\n",
    "                                \n",
    "                    \n",
    "                    # calculate the argmax (probabilities for each dialog)\n",
    "                    pred_probs = {}\n",
    "                    for dialog in dialogs_dict:\n",
    "                        pred_probs[dialog] = 1.0\n",
    "                        \n",
    "                        # factor in conditional probability for each word\n",
    "                        for word in features_split:\n",
    "                            \n",
    "                            # use all words except 'Student:' as features\n",
    "                            if (word != 'Student:'):\n",
    "                                \n",
    "                                # store as absent if not already\n",
    "                                if word not in dialogs_features_dict[dialog]:\n",
    "                                    dialogs_features_dict[dialog][word] = 0.01\n",
    "                                    \n",
    "                                # calculate & factor-in feature probabilities\n",
    "                                feat_prob = dialogs_features_dict[dialog][word]/dialogs_dict[dialog]\n",
    "                                pred_probs[dialog] = pred_probs[dialog] * feat_prob\n",
    "                        \n",
    "                        # calculate & factor-in dialog probability\n",
    "                        dialog_prob = dialogs_dict[dialog]/sum(dialogs_dict.values())\n",
    "                        pred_probs[dialog] = pred_probs[dialog]*dialog_prob\n",
    "                        #print(dialog, pred_probs[dialog])\n",
    "                    \n",
    "                    # identify the dialog with the highest probability\n",
    "                    pred_dialog = max(pred_probs.items(), key=operator.itemgetter(1))[0]\n",
    "                    \n",
    "                    # check if prediction is correct\n",
    "                    if pred_dialog == true_dialog:\n",
    "                        correct_count += 1\n",
    "\n",
    "                    # output prediction\n",
    "                    outputFile.write(prev_line)\n",
    "                    outputFile.write(pred_dialog + ' ' + line)\n",
    "                \n",
    "            # set previous line for next go-around\n",
    "            prev_line = line\n",
    "            \n",
    "    accuracy = float(correct_count/test_count)\n",
    "    print('Accuracy:' + str(accuracy))\n",
    "    \n",
    "    return accuracy"
   ]
  },
  {
   "cell_type": "code",
   "execution_count": null,
   "metadata": {
    "collapsed": true
   },
   "outputs": [],
   "source": []
  },
  {
   "cell_type": "markdown",
   "metadata": {},
   "source": [
    "## MAIN FUNCTION :"
   ]
  },
  {
   "cell_type": "markdown",
   "metadata": {},
   "source": [
    "### 1) read in filename"
   ]
  },
  {
   "cell_type": "code",
   "execution_count": 150,
   "metadata": {
    "collapsed": true
   },
   "outputs": [],
   "source": [
    "# SCRIPT NOTE: switch out arguments\n",
    "\n",
    "# read in file\n",
    "dataFile = \"DialogAct.train\"\n",
    "testFile = \"DialogAct.test\"\n",
    "\n",
    "#dataFile = sys.argv[1]\n",
    "#testFile = sys.argv[2]"
   ]
  },
  {
   "cell_type": "markdown",
   "metadata": {},
   "source": [
    "### 2) create output file"
   ]
  },
  {
   "cell_type": "code",
   "execution_count": 151,
   "metadata": {
    "collapsed": true
   },
   "outputs": [],
   "source": [
    "# create output file: <word>.wsd.out\n",
    "outputName = \"DialogAct.test.out\"\n",
    "outputFile = open(outputName, \"w\")"
   ]
  },
  {
   "cell_type": "markdown",
   "metadata": {},
   "source": [
    "### 3) establish dialogs"
   ]
  },
  {
   "cell_type": "code",
   "execution_count": 152,
   "metadata": {
    "collapsed": true
   },
   "outputs": [],
   "source": [
    "dialogs, features, total_instances, total_dialogs = establish_dialogs(dataFile)"
   ]
  },
  {
   "cell_type": "code",
   "execution_count": 153,
   "metadata": {},
   "outputs": [
    {
     "name": "stdout",
     "output_type": "stream",
     "text": [
      "('total instances:', 2796)\n",
      "('total dialogs:', 14)\n"
     ]
    }
   ],
   "source": [
    "print('total instances:', total_instances)\n",
    "print('total dialogs:', total_dialogs)"
   ]
  },
  {
   "cell_type": "markdown",
   "metadata": {},
   "source": [
    "### 4) parse training file for counts"
   ]
  },
  {
   "cell_type": "code",
   "execution_count": 154,
   "metadata": {},
   "outputs": [],
   "source": [
    "dialogs_dict, dialogs_features_dict = parse_datafile(dataFile, dialogs, features)"
   ]
  },
  {
   "cell_type": "markdown",
   "metadata": {},
   "source": [
    "### 5) predict dialog acts for test data"
   ]
  },
  {
   "cell_type": "code",
   "execution_count": 155,
   "metadata": {},
   "outputs": [
    {
     "name": "stdout",
     "output_type": "stream",
     "text": [
      "Accuracy:0.0990502035278\n"
     ]
    }
   ],
   "source": [
    "accuracy = predict_instances(testFile, outputFile, dialogs_dict, dialogs_features_dict)"
   ]
  }
 ],
 "metadata": {
  "kernelspec": {
   "display_name": "Python [conda root]",
   "language": "python",
   "name": "conda-root-py"
  },
  "language_info": {
   "codemirror_mode": {
    "name": "ipython",
    "version": 2
   },
   "file_extension": ".py",
   "mimetype": "text/x-python",
   "name": "python",
   "nbconvert_exporter": "python",
   "pygments_lexer": "ipython2",
   "version": "2.7.13"
  }
 },
 "nbformat": 4,
 "nbformat_minor": 2
}
