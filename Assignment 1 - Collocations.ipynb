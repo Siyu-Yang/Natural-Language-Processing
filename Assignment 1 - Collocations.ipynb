{
 "cells": [
  {
   "cell_type": "markdown",
   "metadata": {},
   "source": [
    "# EECS 498 - Assignment 1 - Collocations.py"
   ]
  },
  {
   "cell_type": "markdown",
   "metadata": {},
   "source": [
    "### <span style=\"color:red\">Major Task:</span> write a Python program Collocations.py that identifies collocations in text.\n",
    "\n",
    "### <span style=\"color:red\">Result:</span> built a program that implements the chi-square and the pointwise mutual information (PMI) measures of association for the identification of bigram collocations."
   ]
  },
  {
   "cell_type": "markdown",
   "metadata": {},
   "source": [
    "### 1) Read in and process data"
   ]
  },
  {
   "cell_type": "code",
   "execution_count": 39,
   "metadata": {
    "collapsed": true
   },
   "outputs": [],
   "source": [
    "import string\n",
    "import math\n",
    "import numpy as np\n",
    "import sys\n",
    "import operator\n",
    "from __future__ import division\n",
    "\n",
    "# create lists for storage\n",
    "unigram_dict = {}\n",
    "bigram_dict = {}\n",
    "prev_word = \".\"\n",
    "\n",
    "# save input file & measure type\n",
    "input_file = 'Collocations'\n",
    "#input_file = sys.argv[1]\n",
    "#measure_type = sys.argv[2]\n",
    "\n",
    "# read in file line-by-line, word-by-word\n",
    "with open(input_file) as f:\n",
    "    for line in f:\n",
    "        splitLine = line.split()\n",
    "        for word in splitLine:\n",
    "            \n",
    "            # store unigram (no tokens of only punctuation)\n",
    "            if word not in string.punctuation:\n",
    "                if word in unigram_dict:\n",
    "                    unigram_dict[word] += 1\n",
    "                else:\n",
    "                    unigram_dict[word] = 1\n",
    "            \n",
    "                # store bigram (no tokens of only punctuation)\n",
    "                if prev_word not in string.punctuation:\n",
    "                    bigram = prev_word + ' ' + word\n",
    "                    if bigram in bigram_dict:\n",
    "                        bigram_dict[bigram] += 1\n",
    "                    else:\n",
    "                        bigram_dict[bigram] = 1\n",
    "            \n",
    "            # set new prev_word\n",
    "            prev_word = word\n",
    "            \n",
    "# discard bigrams that occur less than 5 times\n",
    "bigram_dict = { bigram:count for bigram, count in bigram_dict.items() if count >=5 }"
   ]
  },
  {
   "cell_type": "code",
   "execution_count": 40,
   "metadata": {
    "scrolled": true
   },
   "outputs": [
    {
     "name": "stdout",
     "output_type": "stream",
     "text": [
      "unicount = 30595 bicount: 10542\n"
     ]
    }
   ],
   "source": [
    "print \"unicount =\", len(unigram_dict), \"bicount:\", len(bigram_dict)"
   ]
  },
  {
   "cell_type": "markdown",
   "metadata": {},
   "source": [
    "### 2) Create bigram confusion matrices"
   ]
  },
  {
   "cell_type": "markdown",
   "metadata": {},
   "source": [
    "#### Step 1: Loop through bigrams, save 1st/2nd word counts in dictionaries"
   ]
  },
  {
   "cell_type": "code",
   "execution_count": 41,
   "metadata": {
    "collapsed": true
   },
   "outputs": [],
   "source": [
    "# create dictionaries with \"key-value\" pairs of \"word-count\"\n",
    "first_word_dict = {}\n",
    "second_word_dict = {}\n",
    "\n",
    "# loop through every bigram in the dictionary\n",
    "for bigram,value in bigram_dict.items():\n",
    "    \n",
    "    # extract each bigram, word1, & word2\n",
    "    word1 = bigram.split()[0]\n",
    "    word2 = bigram.split()[1]\n",
    "    \n",
    "    # store first words\n",
    "    if word1 in first_word_dict:\n",
    "        first_word_dict[word1] += 1\n",
    "    else:\n",
    "        first_word_dict[word1] = 1\n",
    "    \n",
    "    # store second words\n",
    "    if word2 in second_word_dict:\n",
    "        second_word_dict[word2] += 1\n",
    "    else:\n",
    "        second_word_dict[word2] = 1"
   ]
  },
  {
   "cell_type": "markdown",
   "metadata": {},
   "source": [
    "#### Step 2: Retrieve and store confusion matrix counts for each bigram"
   ]
  },
  {
   "cell_type": "code",
   "execution_count": 42,
   "metadata": {
    "collapsed": true
   },
   "outputs": [],
   "source": [
    "# create dictionary with \"key-value\" pairs of \"bigram-matrix(list)\"\n",
    "confusion_matrices = {}\n",
    "\n",
    "for bigram,value in bigram_dict.items():\n",
    "    \n",
    "    # extract each word1 & word2\n",
    "    word1 = bigram.split()[0]\n",
    "    word2 = bigram.split()[1]\n",
    "    \n",
    "    # calculate values for confusion matrix\n",
    "    bigramCount = bigram_dict[bigram] # 1st value: bigram occurences\n",
    "    secondWordCount = second_word_dict[word2] - bigram_dict[bigram] # 2nd value: word2 occurences (non-bigram)\n",
    "    firstWordCount = first_word_dict[word1]-bigram_dict[bigram] # 3rd value: word1 occurences (non-bigram)\n",
    "    neitherCount = len(bigram_dict) - bigramCount - secondWordCount - firstWordCount # 4th value: non word1 or word2\n",
    "    \n",
    "    # store values as confusion matrix\n",
    "    matrix = [bigramCount, secondWordCount, firstWordCount, neitherCount]\n",
    "    confusion_matrices[bigram] = matrix"
   ]
  },
  {
   "cell_type": "markdown",
   "metadata": {},
   "source": [
    "### 3) Calculate Chi-Square stat for each bigram"
   ]
  },
  {
   "cell_type": "code",
   "execution_count": 43,
   "metadata": {
    "collapsed": true
   },
   "outputs": [],
   "source": [
    "# create dictionary with \"key-value\" pairs of \"bigram-chiSquare\"\n",
    "chi_square_stats = {}\n",
    "\n",
    "for bigram,matrix in confusion_matrices.items():\n",
    "    \n",
    "    # save observed values\n",
    "    ob11 = matrix[0]\n",
    "    ob12 = matrix[1]\n",
    "    ob21 = matrix[2]\n",
    "    ob22 = matrix[3]\n",
    "    \n",
    "    # save col/row total values\n",
    "    totC1 = ob11 + ob21\n",
    "    totC2 = ob12 + ob22\n",
    "    totR1 = ob11 + ob12\n",
    "    totR2 = ob21 + ob22\n",
    "    total = ob11 + ob12 + ob21 + ob22\n",
    "    \n",
    "    # calculate expected values\n",
    "    ex11 = (totR1*totC1)/total\n",
    "    ex12 = (totR1*totC2)/total\n",
    "    ex21 = (totR2*totC1)/total\n",
    "    ex22 = (totR2*totC2)/total\n",
    "    \n",
    "    # calculate chi_squared statistic\n",
    "    chi11 = pow((ob11-ex11),2)/ex11\n",
    "    chi12 = pow((ob12-ex12),2)/ex12\n",
    "    chi21 = pow((ob21-ex21),2)/ex21\n",
    "    chi22 = pow((ob22-ex22),2)/ex22\n",
    "    chi_square = chi11 + chi12 + chi21 + chi22\n",
    "    \n",
    "    # store statistic in dictionary with bigram as key\n",
    "    chi_square_stats[bigram] = chi_square"
   ]
  },
  {
   "cell_type": "markdown",
   "metadata": {},
   "source": [
    "### 4) Calculate PMI stat for each bigram"
   ]
  },
  {
   "cell_type": "code",
   "execution_count": 44,
   "metadata": {
    "collapsed": true
   },
   "outputs": [],
   "source": [
    "# create dictionary with \"key-value\" pairs of \"bigram-PMI\"\n",
    "PMI_stats = {}\n",
    "\n",
    "for bigram,matrix in confusion_matrices.items():\n",
    "    \n",
    "    # split bigram into words\n",
    "    word1 = bigram.split()[0]\n",
    "    word2 = bigram.split()[1]\n",
    "    \n",
    "    # calculate probability values\n",
    "    prob_bigram = bigram_dict[bigram]/len(bigram_dict)\n",
    "    prob_word1 = first_word_dict[word1]/len(first_word_dict)\n",
    "    prob_word2 = second_word_dict[word2]/len(second_word_dict)\n",
    "    \n",
    "    # calculate PMI statistic\n",
    "    PMI = math.log(prob_bigram/(prob_word1*prob_word2))\n",
    "    \n",
    "    # store statistic in dictionary with bigram as key\n",
    "    PMI_stats[bigram] = PMI"
   ]
  },
  {
   "cell_type": "code",
   "execution_count": 45,
   "metadata": {},
   "outputs": [
    {
     "data": {
      "text/plain": [
       "[('New York', 280287895.18300825),\n",
       " ('Wall Street', 192164135.13591725),\n",
       " ('Dow Jones', 97519894.06478672),\n",
       " ('Hong Kong', 59309851.57257563),\n",
       " ('real estate', 53152163.40788018),\n",
       " ('Merrill Lynch', 31895490.84017424),\n",
       " ('Stock Exchange', 26961727.12984751),\n",
       " ('Los Angeles', 19618851.70110675),\n",
       " ('Navigation Mixte', 18599532.486211885),\n",
       " ('Big Board', 16539044.039581196),\n",
       " ('S&P 500', 14434662.375687597),\n",
       " ('Lehman Hutton', 13664952.355290411),\n",
       " ('vice president', 13220302.349074317),\n",
       " ('San Francisco', 13080434.817291934),\n",
       " (\"wo n't\", 9822289.484212104),\n",
       " ('White House', 9469862.965518929),\n",
       " ('Sea Containers', 8867446.228448382),\n",
       " ('West Germany', 8435920.50873515),\n",
       " ('chief executive', 7704807.067436108),\n",
       " ('Shearson Lehman', 7613414.45807035),\n",
       " ('Control Data', 7127692.182625869),\n",
       " (\"did n't\", 7002874.514172116),\n",
       " ('Industrial Average', 6833088.410062129),\n",
       " (\"does n't\", 6584675.441917927),\n",
       " ('Du Pont', 6073296.1549236495)]"
      ]
     },
     "execution_count": 45,
     "metadata": {},
     "output_type": "execute_result"
    }
   ],
   "source": [
    "sorted_bigrams_PMI = sorted(PMI_stats.items(), key=operator.itemgetter(1), reverse = True)\n",
    "sorted_bigrams_chi_square = sorted(chi_square_stats.items(), key=operator.itemgetter(1), reverse = True)\n",
    "\n",
    "sorted_bigrams_PMI[:25]\n",
    "sorted_bigrams_chi_square[:25]"
   ]
  },
  {
   "cell_type": "code",
   "execution_count": null,
   "metadata": {
    "collapsed": true
   },
   "outputs": [],
   "source": []
  }
 ],
 "metadata": {
  "kernelspec": {
   "display_name": "Python [conda env:si370]",
   "language": "python",
   "name": "conda-env-si370-py"
  },
  "language_info": {
   "codemirror_mode": {
    "name": "ipython",
    "version": 3
   },
   "file_extension": ".py",
   "mimetype": "text/x-python",
   "name": "python",
   "nbconvert_exporter": "python",
   "pygments_lexer": "ipython3",
   "version": "3.6.1"
  }
 },
 "nbformat": 4,
 "nbformat_minor": 2
}
